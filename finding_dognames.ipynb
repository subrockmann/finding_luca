{
 "cells": [
  {
   "cell_type": "markdown",
   "id": "48d74949",
   "metadata": {},
   "source": [
    "# Imports & setup"
   ]
  },
  {
   "cell_type": "code",
   "execution_count": 23,
   "id": "44e8cad3",
   "metadata": {},
   "outputs": [],
   "source": [
    "import nltk\n",
    "import os\n",
    "import pandas as pd\n",
    "\n",
    "# maximum number of columns\n",
    "pd.set_option(\"display.max_rows\", 101)\n",
    "pd.set_option(\"display.max_columns\", 101)"
   ]
  },
  {
   "cell_type": "markdown",
   "id": "589b166a",
   "metadata": {},
   "source": [
    "# Data ingestion"
   ]
  },
  {
   "cell_type": "code",
   "execution_count": 25,
   "id": "dce97d33",
   "metadata": {},
   "outputs": [],
   "source": [
    "file_name = \"20210103_hundenamen.csv\"\n",
    "data_folder = os.path.join(os.getcwd(), \"data\")\n",
    "file_path = os.path.join(data_folder, file_name)"
   ]
  },
  {
   "cell_type": "code",
   "execution_count": 26,
   "id": "689d63c1",
   "metadata": {},
   "outputs": [],
   "source": [
    "df = pd.read_csv(file_path)"
   ]
  },
  {
   "cell_type": "markdown",
   "id": "5881fa49",
   "metadata": {},
   "source": [
    "# EDA"
   ]
  },
  {
   "cell_type": "code",
   "execution_count": 27,
   "id": "25fc6fea",
   "metadata": {},
   "outputs": [
    {
     "data": {
      "text/html": [
       "<div>\n",
       "<style scoped>\n",
       "    .dataframe tbody tr th:only-of-type {\n",
       "        vertical-align: middle;\n",
       "    }\n",
       "\n",
       "    .dataframe tbody tr th {\n",
       "        vertical-align: top;\n",
       "    }\n",
       "\n",
       "    .dataframe thead th {\n",
       "        text-align: right;\n",
       "    }\n",
       "</style>\n",
       "<table border=\"1\" class=\"dataframe\">\n",
       "  <thead>\n",
       "    <tr style=\"text-align: right;\">\n",
       "      <th></th>\n",
       "      <th>HUNDENAME</th>\n",
       "      <th>GEBURTSJAHR_HUND</th>\n",
       "      <th>GESCHLECHT_HUND</th>\n",
       "    </tr>\n",
       "  </thead>\n",
       "  <tbody>\n",
       "    <tr>\n",
       "      <th>0</th>\n",
       "      <td>Ituma</td>\n",
       "      <td>2011</td>\n",
       "      <td>w</td>\n",
       "    </tr>\n",
       "    <tr>\n",
       "      <th>1</th>\n",
       "      <td>\"Bo\" Bendy of Treegarden</td>\n",
       "      <td>2020</td>\n",
       "      <td>m</td>\n",
       "    </tr>\n",
       "    <tr>\n",
       "      <th>2</th>\n",
       "      <td>\"Bobby\" Lord Sinclair</td>\n",
       "      <td>2009</td>\n",
       "      <td>m</td>\n",
       "    </tr>\n",
       "    <tr>\n",
       "      <th>3</th>\n",
       "      <td>\"Buddy\" Fortheringhay's J.</td>\n",
       "      <td>2011</td>\n",
       "      <td>m</td>\n",
       "    </tr>\n",
       "    <tr>\n",
       "      <th>4</th>\n",
       "      <td>\"Fly\" Showring i fly for you</td>\n",
       "      <td>2015</td>\n",
       "      <td>w</td>\n",
       "    </tr>\n",
       "  </tbody>\n",
       "</table>\n",
       "</div>"
      ],
      "text/plain": [
       "                      HUNDENAME  GEBURTSJAHR_HUND GESCHLECHT_HUND\n",
       "0                         Ituma              2011               w\n",
       "1      \"Bo\" Bendy of Treegarden              2020               m\n",
       "2         \"Bobby\" Lord Sinclair              2009               m\n",
       "3    \"Buddy\" Fortheringhay's J.              2011               m\n",
       "4  \"Fly\" Showring i fly for you              2015               w"
      ]
     },
     "execution_count": 27,
     "metadata": {},
     "output_type": "execute_result"
    }
   ],
   "source": [
    "df.head()"
   ]
  },
  {
   "cell_type": "code",
   "execution_count": 28,
   "id": "8e3ee237",
   "metadata": {},
   "outputs": [
    {
     "data": {
      "text/plain": [
       "5192"
      ]
     },
     "execution_count": 28,
     "metadata": {},
     "output_type": "execute_result"
    }
   ],
   "source": [
    "len(df.HUNDENAME.unique())"
   ]
  },
  {
   "cell_type": "code",
   "execution_count": 29,
   "id": "351d8d34",
   "metadata": {},
   "outputs": [
    {
     "data": {
      "text/plain": [
       "5"
      ]
     },
     "execution_count": 29,
     "metadata": {},
     "output_type": "execute_result"
    }
   ],
   "source": [
    "len(df[df.HUNDENAME =='unbekannt'])"
   ]
  },
  {
   "cell_type": "markdown",
   "id": "ebea2a34",
   "metadata": {},
   "source": [
    "## Feature Engineering"
   ]
  },
  {
   "cell_type": "code",
   "execution_count": 30,
   "id": "bea4056b",
   "metadata": {},
   "outputs": [
    {
     "name": "stderr",
     "output_type": "stream",
     "text": [
      "D:\\Anaconda\\envs\\nlp2\\lib\\site-packages\\ipykernel_launcher.py:1: FutureWarning: The default value of regex will change from True to False in a future version.\n",
      "  \"\"\"Entry point for launching an IPython kernel.\n"
     ]
    }
   ],
   "source": [
    "df.HUNDENAME =df.HUNDENAME.str.replace(r'\\\"', '')"
   ]
  },
  {
   "cell_type": "code",
   "execution_count": 31,
   "id": "404d2f13",
   "metadata": {},
   "outputs": [
    {
     "data": {
      "text/html": [
       "<div>\n",
       "<style scoped>\n",
       "    .dataframe tbody tr th:only-of-type {\n",
       "        vertical-align: middle;\n",
       "    }\n",
       "\n",
       "    .dataframe tbody tr th {\n",
       "        vertical-align: top;\n",
       "    }\n",
       "\n",
       "    .dataframe thead th {\n",
       "        text-align: right;\n",
       "    }\n",
       "</style>\n",
       "<table border=\"1\" class=\"dataframe\">\n",
       "  <thead>\n",
       "    <tr style=\"text-align: right;\">\n",
       "      <th></th>\n",
       "      <th>HUNDENAME</th>\n",
       "      <th>GEBURTSJAHR_HUND</th>\n",
       "      <th>GESCHLECHT_HUND</th>\n",
       "    </tr>\n",
       "  </thead>\n",
       "  <tbody>\n",
       "    <tr>\n",
       "      <th>0</th>\n",
       "      <td>Ituma</td>\n",
       "      <td>2011</td>\n",
       "      <td>w</td>\n",
       "    </tr>\n",
       "    <tr>\n",
       "      <th>1</th>\n",
       "      <td>Bo Bendy of Treegarden</td>\n",
       "      <td>2020</td>\n",
       "      <td>m</td>\n",
       "    </tr>\n",
       "    <tr>\n",
       "      <th>2</th>\n",
       "      <td>Bobby Lord Sinclair</td>\n",
       "      <td>2009</td>\n",
       "      <td>m</td>\n",
       "    </tr>\n",
       "    <tr>\n",
       "      <th>3</th>\n",
       "      <td>Buddy Fortheringhay's J.</td>\n",
       "      <td>2011</td>\n",
       "      <td>m</td>\n",
       "    </tr>\n",
       "    <tr>\n",
       "      <th>4</th>\n",
       "      <td>Fly Showring i fly for you</td>\n",
       "      <td>2015</td>\n",
       "      <td>w</td>\n",
       "    </tr>\n",
       "    <tr>\n",
       "      <th>...</th>\n",
       "      <td>...</td>\n",
       "      <td>...</td>\n",
       "      <td>...</td>\n",
       "    </tr>\n",
       "    <tr>\n",
       "      <th>8569</th>\n",
       "      <td>unbekannt</td>\n",
       "      <td>2010</td>\n",
       "      <td>w</td>\n",
       "    </tr>\n",
       "    <tr>\n",
       "      <th>8570</th>\n",
       "      <td>unbekannt</td>\n",
       "      <td>2011</td>\n",
       "      <td>m</td>\n",
       "    </tr>\n",
       "    <tr>\n",
       "      <th>8571</th>\n",
       "      <td>unbekannt</td>\n",
       "      <td>2018</td>\n",
       "      <td>m</td>\n",
       "    </tr>\n",
       "    <tr>\n",
       "      <th>8572</th>\n",
       "      <td>unbekannt</td>\n",
       "      <td>2018</td>\n",
       "      <td>m</td>\n",
       "    </tr>\n",
       "    <tr>\n",
       "      <th>8573</th>\n",
       "      <td>unbekannt</td>\n",
       "      <td>2017</td>\n",
       "      <td>m</td>\n",
       "    </tr>\n",
       "  </tbody>\n",
       "</table>\n",
       "<p>8574 rows × 3 columns</p>\n",
       "</div>"
      ],
      "text/plain": [
       "                       HUNDENAME  GEBURTSJAHR_HUND GESCHLECHT_HUND\n",
       "0                          Ituma              2011               w\n",
       "1         Bo Bendy of Treegarden              2020               m\n",
       "2            Bobby Lord Sinclair              2009               m\n",
       "3       Buddy Fortheringhay's J.              2011               m\n",
       "4     Fly Showring i fly for you              2015               w\n",
       "...                          ...               ...             ...\n",
       "8569                   unbekannt              2010               w\n",
       "8570                   unbekannt              2011               m\n",
       "8571                   unbekannt              2018               m\n",
       "8572                   unbekannt              2018               m\n",
       "8573                   unbekannt              2017               m\n",
       "\n",
       "[8574 rows x 3 columns]"
      ]
     },
     "execution_count": 31,
     "metadata": {},
     "output_type": "execute_result"
    }
   ],
   "source": [
    "df"
   ]
  },
  {
   "cell_type": "code",
   "execution_count": 32,
   "id": "9ba4cb86",
   "metadata": {},
   "outputs": [],
   "source": [
    "def edit_distance(term, search_word):\n",
    "    '''\n",
    "    Calculate the Levenshtein distance (edit distance) between two strings after lowercasing them.\n",
    "    \n",
    "    Args:\n",
    "        term (str): first string to compare\n",
    "        searchword (str): the searchterm that we want to calculate the edit distance for\n",
    "        \n",
    "    Returns:\n",
    "        int: the edit distance between the two terms\n",
    "    '''\n",
    "    \n",
    "    return nltk.edit_distance(term.lower(), search_word.lower())"
   ]
  },
  {
   "cell_type": "markdown",
   "id": "03437884",
   "metadata": {},
   "source": [
    "## Searching for names similar to \"Luca\""
   ]
  },
  {
   "cell_type": "code",
   "execution_count": 33,
   "id": "5b0ea1d4",
   "metadata": {},
   "outputs": [],
   "source": [
    "search_word = 'Luca'\n",
    "df['edit_distance']= df.HUNDENAME.apply(edit_distance, args=[search_word])"
   ]
  },
  {
   "cell_type": "code",
   "execution_count": 34,
   "id": "e0672d46",
   "metadata": {},
   "outputs": [
    {
     "data": {
      "text/html": [
       "<div>\n",
       "<style scoped>\n",
       "    .dataframe tbody tr th:only-of-type {\n",
       "        vertical-align: middle;\n",
       "    }\n",
       "\n",
       "    .dataframe tbody tr th {\n",
       "        vertical-align: top;\n",
       "    }\n",
       "\n",
       "    .dataframe thead th {\n",
       "        text-align: right;\n",
       "    }\n",
       "</style>\n",
       "<table border=\"1\" class=\"dataframe\">\n",
       "  <thead>\n",
       "    <tr style=\"text-align: right;\">\n",
       "      <th></th>\n",
       "      <th>HUNDENAME</th>\n",
       "      <th>GEBURTSJAHR_HUND</th>\n",
       "      <th>GESCHLECHT_HUND</th>\n",
       "      <th>edit_distance</th>\n",
       "    </tr>\n",
       "  </thead>\n",
       "  <tbody>\n",
       "    <tr>\n",
       "      <th>1842</th>\n",
       "      <td>Cuca</td>\n",
       "      <td>2017</td>\n",
       "      <td>w</td>\n",
       "      <td>1</td>\n",
       "    </tr>\n",
       "    <tr>\n",
       "      <th>4628</th>\n",
       "      <td>Lua</td>\n",
       "      <td>2020</td>\n",
       "      <td>w</td>\n",
       "      <td>1</td>\n",
       "    </tr>\n",
       "    <tr>\n",
       "      <th>4629</th>\n",
       "      <td>Lua</td>\n",
       "      <td>2020</td>\n",
       "      <td>w</td>\n",
       "      <td>1</td>\n",
       "    </tr>\n",
       "    <tr>\n",
       "      <th>4630</th>\n",
       "      <td>Lua</td>\n",
       "      <td>2009</td>\n",
       "      <td>w</td>\n",
       "      <td>1</td>\n",
       "    </tr>\n",
       "    <tr>\n",
       "      <th>4631</th>\n",
       "      <td>Lua</td>\n",
       "      <td>2019</td>\n",
       "      <td>w</td>\n",
       "      <td>1</td>\n",
       "    </tr>\n",
       "    <tr>\n",
       "      <th>...</th>\n",
       "      <td>...</td>\n",
       "      <td>...</td>\n",
       "      <td>...</td>\n",
       "      <td>...</td>\n",
       "    </tr>\n",
       "    <tr>\n",
       "      <th>4877</th>\n",
       "      <td>Lupa</td>\n",
       "      <td>2014</td>\n",
       "      <td>w</td>\n",
       "      <td>1</td>\n",
       "    </tr>\n",
       "    <tr>\n",
       "      <th>4878</th>\n",
       "      <td>Lupa</td>\n",
       "      <td>2009</td>\n",
       "      <td>w</td>\n",
       "      <td>1</td>\n",
       "    </tr>\n",
       "    <tr>\n",
       "      <th>4879</th>\n",
       "      <td>Lupa</td>\n",
       "      <td>2016</td>\n",
       "      <td>w</td>\n",
       "      <td>1</td>\n",
       "    </tr>\n",
       "    <tr>\n",
       "      <th>4880</th>\n",
       "      <td>Lupa</td>\n",
       "      <td>2015</td>\n",
       "      <td>w</td>\n",
       "      <td>1</td>\n",
       "    </tr>\n",
       "    <tr>\n",
       "      <th>8379</th>\n",
       "      <td>Yuca</td>\n",
       "      <td>2020</td>\n",
       "      <td>w</td>\n",
       "      <td>1</td>\n",
       "    </tr>\n",
       "  </tbody>\n",
       "</table>\n",
       "<p>136 rows × 4 columns</p>\n",
       "</div>"
      ],
      "text/plain": [
       "     HUNDENAME  GEBURTSJAHR_HUND GESCHLECHT_HUND  edit_distance\n",
       "1842      Cuca              2017               w              1\n",
       "4628       Lua              2020               w              1\n",
       "4629       Lua              2020               w              1\n",
       "4630       Lua              2009               w              1\n",
       "4631       Lua              2019               w              1\n",
       "...        ...               ...             ...            ...\n",
       "4877      Lupa              2014               w              1\n",
       "4878      Lupa              2009               w              1\n",
       "4879      Lupa              2016               w              1\n",
       "4880      Lupa              2015               w              1\n",
       "8379      Yuca              2020               w              1\n",
       "\n",
       "[136 rows x 4 columns]"
      ]
     },
     "execution_count": 34,
     "metadata": {},
     "output_type": "execute_result"
    }
   ],
   "source": [
    "luca_df = df[df['edit_distance'] ==1]\n",
    "luca_df"
   ]
  },
  {
   "cell_type": "code",
   "execution_count": 35,
   "id": "3c4eebc4",
   "metadata": {},
   "outputs": [
    {
     "data": {
      "text/plain": [
       "['Cuca',\n",
       " 'Lua',\n",
       " 'Luba',\n",
       " 'Lucas',\n",
       " 'Luce',\n",
       " 'Lucia',\n",
       " 'Lucy',\n",
       " 'Lula',\n",
       " 'Luma',\n",
       " 'Luna',\n",
       " 'Lupa',\n",
       " 'Yuca']"
      ]
     },
     "execution_count": 35,
     "metadata": {},
     "output_type": "execute_result"
    }
   ],
   "source": [
    "names = list(luca_df.HUNDENAME.unique())\n",
    "names"
   ]
  },
  {
   "cell_type": "code",
   "execution_count": 36,
   "id": "23300d33",
   "metadata": {},
   "outputs": [
    {
     "data": {
      "text/plain": [
       "Luna     92\n",
       "Lucy     21\n",
       "Lua       6\n",
       "Lupa      5\n",
       "Luce      3\n",
       "Lula      2\n",
       "Luma      2\n",
       "Cuca      1\n",
       "Luba      1\n",
       "Lucas     1\n",
       "Lucia     1\n",
       "Yuca      1\n",
       "Name: HUNDENAME, dtype: int64"
      ]
     },
     "execution_count": 36,
     "metadata": {},
     "output_type": "execute_result"
    }
   ],
   "source": [
    "# Try to find a not so common name\n",
    "luca_df.HUNDENAME.value_counts()"
   ]
  }
 ],
 "metadata": {
  "kernelspec": {
   "display_name": "Python 3",
   "language": "python",
   "name": "python3"
  },
  "language_info": {
   "codemirror_mode": {
    "name": "ipython",
    "version": 3
   },
   "file_extension": ".py",
   "mimetype": "text/x-python",
   "name": "python",
   "nbconvert_exporter": "python",
   "pygments_lexer": "ipython3",
   "version": "3.7.10"
  },
  "toc": {
   "base_numbering": 1,
   "nav_menu": {},
   "number_sections": true,
   "sideBar": true,
   "skip_h1_title": false,
   "title_cell": "Table of Contents",
   "title_sidebar": "Contents",
   "toc_cell": false,
   "toc_position": {},
   "toc_section_display": true,
   "toc_window_display": false
  }
 },
 "nbformat": 4,
 "nbformat_minor": 5
}
