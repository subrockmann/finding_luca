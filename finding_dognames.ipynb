{
 "cells": [
  {
   "cell_type": "markdown",
   "id": "a4b4d9a4",
   "metadata": {},
   "source": [
    "# Imports & setup"
   ]
  },
  {
   "cell_type": "code",
   "execution_count": 1,
   "id": "44e8cad3",
   "metadata": {},
   "outputs": [],
   "source": [
    "import nltk\n",
    "import os\n",
    "import pandas as pd"
   ]
  },
  {
   "cell_type": "code",
   "execution_count": 2,
   "id": "9bac7d7f",
   "metadata": {},
   "outputs": [
    {
     "name": "stdout",
     "output_type": "stream",
     "text": [
      "/d/Anaconda/envs/nlp2/python\n"
     ]
    }
   ],
   "source": [
    "!which python"
   ]
  },
  {
   "cell_type": "code",
   "execution_count": 3,
   "id": "ebe48f59",
   "metadata": {},
   "outputs": [],
   "source": [
    "file_name = \"20210103_hundenamen.csv\"\n",
    "data_folder = os.path.join(os.getcwd(), \"data\")\n",
    "file_path = os.path.join(data_folder, file_name)"
   ]
  },
  {
   "cell_type": "code",
   "execution_count": 4,
   "id": "7fdb8c7e",
   "metadata": {},
   "outputs": [],
   "source": [
    "df = pd.read_csv(file_path)"
   ]
  },
  {
   "cell_type": "code",
   "execution_count": 5,
   "id": "b5944606",
   "metadata": {},
   "outputs": [
    {
     "data": {
      "text/html": [
       "<div>\n",
       "<style scoped>\n",
       "    .dataframe tbody tr th:only-of-type {\n",
       "        vertical-align: middle;\n",
       "    }\n",
       "\n",
       "    .dataframe tbody tr th {\n",
       "        vertical-align: top;\n",
       "    }\n",
       "\n",
       "    .dataframe thead th {\n",
       "        text-align: right;\n",
       "    }\n",
       "</style>\n",
       "<table border=\"1\" class=\"dataframe\">\n",
       "  <thead>\n",
       "    <tr style=\"text-align: right;\">\n",
       "      <th></th>\n",
       "      <th>HUNDENAME</th>\n",
       "      <th>GEBURTSJAHR_HUND</th>\n",
       "      <th>GESCHLECHT_HUND</th>\n",
       "    </tr>\n",
       "  </thead>\n",
       "  <tbody>\n",
       "    <tr>\n",
       "      <th>0</th>\n",
       "      <td>Ituma</td>\n",
       "      <td>2011</td>\n",
       "      <td>w</td>\n",
       "    </tr>\n",
       "    <tr>\n",
       "      <th>1</th>\n",
       "      <td>\"Bo\" Bendy of Treegarden</td>\n",
       "      <td>2020</td>\n",
       "      <td>m</td>\n",
       "    </tr>\n",
       "    <tr>\n",
       "      <th>2</th>\n",
       "      <td>\"Bobby\" Lord Sinclair</td>\n",
       "      <td>2009</td>\n",
       "      <td>m</td>\n",
       "    </tr>\n",
       "    <tr>\n",
       "      <th>3</th>\n",
       "      <td>\"Buddy\" Fortheringhay's J.</td>\n",
       "      <td>2011</td>\n",
       "      <td>m</td>\n",
       "    </tr>\n",
       "    <tr>\n",
       "      <th>4</th>\n",
       "      <td>\"Fly\" Showring i fly for you</td>\n",
       "      <td>2015</td>\n",
       "      <td>w</td>\n",
       "    </tr>\n",
       "  </tbody>\n",
       "</table>\n",
       "</div>"
      ],
      "text/plain": [
       "                      HUNDENAME  GEBURTSJAHR_HUND GESCHLECHT_HUND\n",
       "0                         Ituma              2011               w\n",
       "1      \"Bo\" Bendy of Treegarden              2020               m\n",
       "2         \"Bobby\" Lord Sinclair              2009               m\n",
       "3    \"Buddy\" Fortheringhay's J.              2011               m\n",
       "4  \"Fly\" Showring i fly for you              2015               w"
      ]
     },
     "execution_count": 5,
     "metadata": {},
     "output_type": "execute_result"
    }
   ],
   "source": [
    "df.head()"
   ]
  },
  {
   "cell_type": "code",
   "execution_count": 7,
   "id": "23ce6acb",
   "metadata": {},
   "outputs": [
    {
     "data": {
      "text/plain": [
       "5192"
      ]
     },
     "execution_count": 7,
     "metadata": {},
     "output_type": "execute_result"
    }
   ],
   "source": [
    "len(df.HUNDENAME.unique())"
   ]
  },
  {
   "cell_type": "code",
   "execution_count": 20,
   "id": "df9ff800",
   "metadata": {},
   "outputs": [
    {
     "data": {
      "text/plain": [
       "0                             Ituma\n",
       "1           Bo\" Bendy of Treegarden\n",
       "2              Bobby\" Lord Sinclair\n",
       "3         Buddy\" Fortheringhay's J.\n",
       "4       Fly\" Showring i fly for you\n",
       "                   ...             \n",
       "8569                      unbekannt\n",
       "8570                      unbekannt\n",
       "8571                      unbekannt\n",
       "8572                      unbekannt\n",
       "8573                      unbekannt\n",
       "Name: HUNDENAME, Length: 8574, dtype: object"
      ]
     },
     "execution_count": 20,
     "metadata": {},
     "output_type": "execute_result"
    }
   ],
   "source": [
    "df.HUNDENAME.str.lstrip('\"\"').str.rstrip('\"')"
   ]
  },
  {
   "cell_type": "code",
   "execution_count": 24,
   "id": "1e655a5f",
   "metadata": {},
   "outputs": [
    {
     "data": {
      "text/plain": [
       "5"
      ]
     },
     "execution_count": 24,
     "metadata": {},
     "output_type": "execute_result"
    }
   ],
   "source": [
    "len(df[df.HUNDENAME =='unbekannt'])"
   ]
  },
  {
   "cell_type": "code",
   "execution_count": 26,
   "id": "a803833e",
   "metadata": {},
   "outputs": [
    {
     "name": "stderr",
     "output_type": "stream",
     "text": [
      "D:\\Anaconda\\envs\\nlp2\\lib\\site-packages\\ipykernel_launcher.py:1: FutureWarning: The default value of regex will change from True to False in a future version.\n",
      "  \"\"\"Entry point for launching an IPython kernel.\n"
     ]
    }
   ],
   "source": [
    "df.HUNDENAME =df.HUNDENAME.str.replace(r'\\\"', '')"
   ]
  },
  {
   "cell_type": "code",
   "execution_count": 27,
   "id": "12c5e56d",
   "metadata": {},
   "outputs": [
    {
     "data": {
      "text/html": [
       "<div>\n",
       "<style scoped>\n",
       "    .dataframe tbody tr th:only-of-type {\n",
       "        vertical-align: middle;\n",
       "    }\n",
       "\n",
       "    .dataframe tbody tr th {\n",
       "        vertical-align: top;\n",
       "    }\n",
       "\n",
       "    .dataframe thead th {\n",
       "        text-align: right;\n",
       "    }\n",
       "</style>\n",
       "<table border=\"1\" class=\"dataframe\">\n",
       "  <thead>\n",
       "    <tr style=\"text-align: right;\">\n",
       "      <th></th>\n",
       "      <th>HUNDENAME</th>\n",
       "      <th>GEBURTSJAHR_HUND</th>\n",
       "      <th>GESCHLECHT_HUND</th>\n",
       "    </tr>\n",
       "  </thead>\n",
       "  <tbody>\n",
       "    <tr>\n",
       "      <th>0</th>\n",
       "      <td>Ituma</td>\n",
       "      <td>2011</td>\n",
       "      <td>w</td>\n",
       "    </tr>\n",
       "    <tr>\n",
       "      <th>1</th>\n",
       "      <td>Bo Bendy of Treegarden</td>\n",
       "      <td>2020</td>\n",
       "      <td>m</td>\n",
       "    </tr>\n",
       "    <tr>\n",
       "      <th>2</th>\n",
       "      <td>Bobby Lord Sinclair</td>\n",
       "      <td>2009</td>\n",
       "      <td>m</td>\n",
       "    </tr>\n",
       "    <tr>\n",
       "      <th>3</th>\n",
       "      <td>Buddy Fortheringhay's J.</td>\n",
       "      <td>2011</td>\n",
       "      <td>m</td>\n",
       "    </tr>\n",
       "    <tr>\n",
       "      <th>4</th>\n",
       "      <td>Fly Showring i fly for you</td>\n",
       "      <td>2015</td>\n",
       "      <td>w</td>\n",
       "    </tr>\n",
       "    <tr>\n",
       "      <th>...</th>\n",
       "      <td>...</td>\n",
       "      <td>...</td>\n",
       "      <td>...</td>\n",
       "    </tr>\n",
       "    <tr>\n",
       "      <th>8569</th>\n",
       "      <td>unbekannt</td>\n",
       "      <td>2010</td>\n",
       "      <td>w</td>\n",
       "    </tr>\n",
       "    <tr>\n",
       "      <th>8570</th>\n",
       "      <td>unbekannt</td>\n",
       "      <td>2011</td>\n",
       "      <td>m</td>\n",
       "    </tr>\n",
       "    <tr>\n",
       "      <th>8571</th>\n",
       "      <td>unbekannt</td>\n",
       "      <td>2018</td>\n",
       "      <td>m</td>\n",
       "    </tr>\n",
       "    <tr>\n",
       "      <th>8572</th>\n",
       "      <td>unbekannt</td>\n",
       "      <td>2018</td>\n",
       "      <td>m</td>\n",
       "    </tr>\n",
       "    <tr>\n",
       "      <th>8573</th>\n",
       "      <td>unbekannt</td>\n",
       "      <td>2017</td>\n",
       "      <td>m</td>\n",
       "    </tr>\n",
       "  </tbody>\n",
       "</table>\n",
       "<p>8574 rows × 3 columns</p>\n",
       "</div>"
      ],
      "text/plain": [
       "                       HUNDENAME  GEBURTSJAHR_HUND GESCHLECHT_HUND\n",
       "0                          Ituma              2011               w\n",
       "1         Bo Bendy of Treegarden              2020               m\n",
       "2            Bobby Lord Sinclair              2009               m\n",
       "3       Buddy Fortheringhay's J.              2011               m\n",
       "4     Fly Showring i fly for you              2015               w\n",
       "...                          ...               ...             ...\n",
       "8569                   unbekannt              2010               w\n",
       "8570                   unbekannt              2011               m\n",
       "8571                   unbekannt              2018               m\n",
       "8572                   unbekannt              2018               m\n",
       "8573                   unbekannt              2017               m\n",
       "\n",
       "[8574 rows x 3 columns]"
      ]
     },
     "execution_count": 27,
     "metadata": {},
     "output_type": "execute_result"
    }
   ],
   "source": [
    "df"
   ]
  },
  {
   "cell_type": "code",
   "execution_count": 29,
   "id": "6b04bff2",
   "metadata": {},
   "outputs": [
    {
     "data": {
      "text/plain": [
       "'Ituma'"
      ]
     },
     "execution_count": 29,
     "metadata": {},
     "output_type": "execute_result"
    }
   ],
   "source": [
    "df.HUNDENAME[0]"
   ]
  },
  {
   "cell_type": "code",
   "execution_count": 31,
   "id": "f0d2eb44",
   "metadata": {},
   "outputs": [],
   "source": [
    "search_word = 'luca'"
   ]
  },
  {
   "cell_type": "code",
   "execution_count": 60,
   "id": "3ffd8bd0",
   "metadata": {},
   "outputs": [],
   "source": [
    "def edit_distance(term, search_word):\n",
    "    return nltk.edit_distance(term, search_word)"
   ]
  },
  {
   "cell_type": "code",
   "execution_count": 61,
   "id": "d6f8fa5f",
   "metadata": {},
   "outputs": [],
   "source": [
    "df['edit_distance']= df.HUNDENAME.apply(edit_distance, args=[search_word])"
   ]
  },
  {
   "cell_type": "code",
   "execution_count": 62,
   "id": "b2ee6d75",
   "metadata": {},
   "outputs": [],
   "source": [
    "luca_df = df[df['edit_distance'] ==1].copy()"
   ]
  },
  {
   "cell_type": "code",
   "execution_count": 63,
   "id": "2a7b9d79",
   "metadata": {},
   "outputs": [
    {
     "data": {
      "text/html": [
       "<div>\n",
       "<style scoped>\n",
       "    .dataframe tbody tr th:only-of-type {\n",
       "        vertical-align: middle;\n",
       "    }\n",
       "\n",
       "    .dataframe tbody tr th {\n",
       "        vertical-align: top;\n",
       "    }\n",
       "\n",
       "    .dataframe thead th {\n",
       "        text-align: right;\n",
       "    }\n",
       "</style>\n",
       "<table border=\"1\" class=\"dataframe\">\n",
       "  <thead>\n",
       "    <tr style=\"text-align: right;\">\n",
       "      <th></th>\n",
       "      <th>HUNDENAME</th>\n",
       "      <th>GEBURTSJAHR_HUND</th>\n",
       "      <th>GESCHLECHT_HUND</th>\n",
       "      <th>edit_distance</th>\n",
       "    </tr>\n",
       "  </thead>\n",
       "  <tbody>\n",
       "    <tr>\n",
       "      <th>1842</th>\n",
       "      <td>Cuca</td>\n",
       "      <td>2017</td>\n",
       "      <td>w</td>\n",
       "      <td>1</td>\n",
       "    </tr>\n",
       "    <tr>\n",
       "      <th>4628</th>\n",
       "      <td>Lua</td>\n",
       "      <td>2020</td>\n",
       "      <td>w</td>\n",
       "      <td>1</td>\n",
       "    </tr>\n",
       "    <tr>\n",
       "      <th>4629</th>\n",
       "      <td>Lua</td>\n",
       "      <td>2020</td>\n",
       "      <td>w</td>\n",
       "      <td>1</td>\n",
       "    </tr>\n",
       "    <tr>\n",
       "      <th>4630</th>\n",
       "      <td>Lua</td>\n",
       "      <td>2009</td>\n",
       "      <td>w</td>\n",
       "      <td>1</td>\n",
       "    </tr>\n",
       "    <tr>\n",
       "      <th>4631</th>\n",
       "      <td>Lua</td>\n",
       "      <td>2019</td>\n",
       "      <td>w</td>\n",
       "      <td>1</td>\n",
       "    </tr>\n",
       "    <tr>\n",
       "      <th>...</th>\n",
       "      <td>...</td>\n",
       "      <td>...</td>\n",
       "      <td>...</td>\n",
       "      <td>...</td>\n",
       "    </tr>\n",
       "    <tr>\n",
       "      <th>4877</th>\n",
       "      <td>Lupa</td>\n",
       "      <td>2014</td>\n",
       "      <td>w</td>\n",
       "      <td>1</td>\n",
       "    </tr>\n",
       "    <tr>\n",
       "      <th>4878</th>\n",
       "      <td>Lupa</td>\n",
       "      <td>2009</td>\n",
       "      <td>w</td>\n",
       "      <td>1</td>\n",
       "    </tr>\n",
       "    <tr>\n",
       "      <th>4879</th>\n",
       "      <td>Lupa</td>\n",
       "      <td>2016</td>\n",
       "      <td>w</td>\n",
       "      <td>1</td>\n",
       "    </tr>\n",
       "    <tr>\n",
       "      <th>4880</th>\n",
       "      <td>Lupa</td>\n",
       "      <td>2015</td>\n",
       "      <td>w</td>\n",
       "      <td>1</td>\n",
       "    </tr>\n",
       "    <tr>\n",
       "      <th>8379</th>\n",
       "      <td>Yuca</td>\n",
       "      <td>2020</td>\n",
       "      <td>w</td>\n",
       "      <td>1</td>\n",
       "    </tr>\n",
       "  </tbody>\n",
       "</table>\n",
       "<p>136 rows × 4 columns</p>\n",
       "</div>"
      ],
      "text/plain": [
       "     HUNDENAME  GEBURTSJAHR_HUND GESCHLECHT_HUND  edit_distance\n",
       "1842      Cuca              2017               w              1\n",
       "4628       Lua              2020               w              1\n",
       "4629       Lua              2020               w              1\n",
       "4630       Lua              2009               w              1\n",
       "4631       Lua              2019               w              1\n",
       "...        ...               ...             ...            ...\n",
       "4877      Lupa              2014               w              1\n",
       "4878      Lupa              2009               w              1\n",
       "4879      Lupa              2016               w              1\n",
       "4880      Lupa              2015               w              1\n",
       "8379      Yuca              2020               w              1\n",
       "\n",
       "[136 rows x 4 columns]"
      ]
     },
     "execution_count": 63,
     "metadata": {},
     "output_type": "execute_result"
    }
   ],
   "source": [
    "luca_df"
   ]
  },
  {
   "cell_type": "code",
   "execution_count": 64,
   "id": "d1473723",
   "metadata": {},
   "outputs": [
    {
     "data": {
      "text/plain": [
       "['Cuca',\n",
       " 'Lua',\n",
       " 'Lua',\n",
       " 'Lua',\n",
       " 'Lua',\n",
       " 'Lua',\n",
       " 'Lua',\n",
       " 'Luba',\n",
       " 'Lucas',\n",
       " 'Luce',\n",
       " 'Luce',\n",
       " 'Luce',\n",
       " 'Lucia',\n",
       " 'Lucy',\n",
       " 'Lucy',\n",
       " 'Lucy',\n",
       " 'Lucy',\n",
       " 'Lucy',\n",
       " 'Lucy',\n",
       " 'Lucy',\n",
       " 'Lucy',\n",
       " 'Lucy',\n",
       " 'Lucy',\n",
       " 'Lucy',\n",
       " 'Lucy',\n",
       " 'Lucy',\n",
       " 'Lucy',\n",
       " 'Lucy',\n",
       " 'Lucy',\n",
       " 'Lucy',\n",
       " 'Lucy',\n",
       " 'Lucy',\n",
       " 'Lucy',\n",
       " 'Lucy',\n",
       " 'Lula',\n",
       " 'Lula',\n",
       " 'Luma',\n",
       " 'Luma',\n",
       " 'Luna',\n",
       " 'Luna',\n",
       " 'Luna',\n",
       " 'Luna',\n",
       " 'Luna',\n",
       " 'Luna',\n",
       " 'Luna',\n",
       " 'Luna',\n",
       " 'Luna',\n",
       " 'Luna',\n",
       " 'Luna',\n",
       " 'Luna',\n",
       " 'Luna',\n",
       " 'Luna',\n",
       " 'Luna',\n",
       " 'Luna',\n",
       " 'Luna',\n",
       " 'Luna',\n",
       " 'Luna',\n",
       " 'Luna',\n",
       " 'Luna',\n",
       " 'Luna',\n",
       " 'Luna',\n",
       " 'Luna',\n",
       " 'Luna',\n",
       " 'Luna',\n",
       " 'Luna',\n",
       " 'Luna',\n",
       " 'Luna',\n",
       " 'Luna',\n",
       " 'Luna',\n",
       " 'Luna',\n",
       " 'Luna',\n",
       " 'Luna',\n",
       " 'Luna',\n",
       " 'Luna',\n",
       " 'Luna',\n",
       " 'Luna',\n",
       " 'Luna',\n",
       " 'Luna',\n",
       " 'Luna',\n",
       " 'Luna',\n",
       " 'Luna',\n",
       " 'Luna',\n",
       " 'Luna',\n",
       " 'Luna',\n",
       " 'Luna',\n",
       " 'Luna',\n",
       " 'Luna',\n",
       " 'Luna',\n",
       " 'Luna',\n",
       " 'Luna',\n",
       " 'Luna',\n",
       " 'Luna',\n",
       " 'Luna',\n",
       " 'Luna',\n",
       " 'Luna',\n",
       " 'Luna',\n",
       " 'Luna',\n",
       " 'Luna',\n",
       " 'Luna',\n",
       " 'Luna',\n",
       " 'Luna',\n",
       " 'Luna',\n",
       " 'Luna',\n",
       " 'Luna',\n",
       " 'Luna',\n",
       " 'Luna',\n",
       " 'Luna',\n",
       " 'Luna',\n",
       " 'Luna',\n",
       " 'Luna',\n",
       " 'Luna',\n",
       " 'Luna',\n",
       " 'Luna',\n",
       " 'Luna',\n",
       " 'Luna',\n",
       " 'Luna',\n",
       " 'Luna',\n",
       " 'Luna',\n",
       " 'Luna',\n",
       " 'Luna',\n",
       " 'Luna',\n",
       " 'Luna',\n",
       " 'Luna',\n",
       " 'Luna',\n",
       " 'Luna',\n",
       " 'Luna',\n",
       " 'Luna',\n",
       " 'Luna',\n",
       " 'Luna',\n",
       " 'Luna',\n",
       " 'Lupa',\n",
       " 'Lupa',\n",
       " 'Lupa',\n",
       " 'Lupa',\n",
       " 'Lupa',\n",
       " 'Yuca']"
      ]
     },
     "execution_count": 64,
     "metadata": {},
     "output_type": "execute_result"
    }
   ],
   "source": [
    "luca_df.HUNDENAME.to_list()"
   ]
  },
  {
   "cell_type": "code",
   "execution_count": null,
   "id": "3b21bd90",
   "metadata": {},
   "outputs": [],
   "source": []
  }
 ],
 "metadata": {
  "kernelspec": {
   "display_name": "Python 3",
   "language": "python",
   "name": "python3"
  },
  "language_info": {
   "codemirror_mode": {
    "name": "ipython",
    "version": 3
   },
   "file_extension": ".py",
   "mimetype": "text/x-python",
   "name": "python",
   "nbconvert_exporter": "python",
   "pygments_lexer": "ipython3",
   "version": "3.7.10"
  },
  "toc": {
   "base_numbering": 1,
   "nav_menu": {},
   "number_sections": true,
   "sideBar": true,
   "skip_h1_title": false,
   "title_cell": "Table of Contents",
   "title_sidebar": "Contents",
   "toc_cell": false,
   "toc_position": {},
   "toc_section_display": true,
   "toc_window_display": false
  }
 },
 "nbformat": 4,
 "nbformat_minor": 5
}
